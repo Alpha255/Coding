{
 "cells": [
  {
   "cell_type": "markdown",
   "metadata": {},
   "source": [
    "- https://www.jianshu.com/p/93ccc63e5a1b\n",
    "$$\n",
    "\\begin{align}\n",
    "a_1&=b_1+c_1 \\tag{1}\\\\\n",
    "a_2&=b_2+c_2+d_2 \\tag{2}\\\\\n",
    "a_3&=b_3+c_3 \\tag{3}\n",
    "\\end{align}\n",
    "$$\n",
    "\n",
    "$$\n",
    "sign(x)=\\begin{cases}\n",
    "1,&x>0 \\\\ 0,&x=0 \\cr -1,&x<0\n",
    "\\end{cases}\n",
    "$$"
   ]
  },
  {
   "cell_type": "code",
   "execution_count": null,
   "metadata": {},
   "outputs": [],
   "source": []
  }
 ],
 "metadata": {
  "kernelspec": {
   "display_name": "Python 3",
   "language": "python",
   "name": "python3"
  },
  "language_info": {
   "codemirror_mode": {
    "name": "ipython",
    "version": 3
   },
   "file_extension": ".py",
   "mimetype": "text/x-python",
   "name": "python",
   "nbconvert_exporter": "python",
   "pygments_lexer": "ipython3",
   "version": "3.8.1"
  }
 },
 "nbformat": 4,
 "nbformat_minor": 4
}
