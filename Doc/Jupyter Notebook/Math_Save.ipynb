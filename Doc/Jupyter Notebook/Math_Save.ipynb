{
 "cells": [
  {
   "cell_type": "markdown",
   "id": "necessary-telephone",
   "metadata": {},
   "source": [
    "- $(C)^{'}=0$\n",
    "- $(x^\\mu)^{'}=\\mu x^{\\mu -1}$\n",
    "- $(\\sin x)^{'}=\\cos x$\n",
    "- $(\\cos x)^{'}=-\\sin x$\n",
    "- $(\\tan x)^{'}=\\sec^2x$\n",
    "- $(\\cot x)^{'}=-\\csc^2x$\n",
    "- $(\\sec x)^{'}=\\sec x\\tan x$\n",
    "- $(\\csc x)^{'}=-\\csc x\\cot x$\n",
    "- $(a^x)^{'}=a^x ln_{a}$\n",
    "- $(e^x)^{'}=e^x$\n",
    "- $(log_{a}x)^{'}=\\frac{1}{xln_{a}}$\n",
    "- $(ln_{x})^{'}=\\frac{1}{x}$\n",
    "- $(\\arcsin x)^{'}=\\frac{1}{\\sqrt{1-x^2}}$\n",
    "- $(\\arccos x)^{'}=-\\frac{1}{\\sqrt{1-x^2}}$\n",
    "- $(\\arctan x)^{'}=\\frac{1}{1+x^2}$\n",
    "- $(arccot{x})^{'}=-\\frac{1}{1+x^2}$"
   ]
  },
  {
   "cell_type": "markdown",
   "id": "arctic-newfoundland",
   "metadata": {},
   "source": [
    "#### 2-2\n",
    "- 6.\n",
    "    - (1) $y^{'}=4(2x+5)\\cdot (2x+5)^{'}=8(2x+5)^3$\n",
    "    - (2) $y^{'}=-\\sin(4-3x)\\cdot (4-3x)^{'}=3\\sin(4-3x)$\n",
    "    - (3) $y^{'}=(-3x^2)^{'} e^{-3x^2}=-6xe^{-3x^2}$\n",
    "    - (4) $y^{'}=\\frac{1}{1+x^2}\\cdot(1+x^2)^{'}=\\frac{2x}{1+x^2}$\n",
    "    - (5) $y^{'}=2\\sin x(\\sin x^{'})=2\\sin x\\cos x = \\sin2x$\n",
    "    - (6) $y^{'}=((a^2-x^2)^{\\frac{1}{2}})^{'}=\\frac{1}{2} (a^2-x^2)^{-\\frac{1}{2}}\\cdot (a^2-x^2)^{'}=-\\frac{x}{\\sqrt{a^2-x^2}}$\n",
    "    - (7) $y^{'}=2x\\sec ^2(x^2)$\n",
    "    - (8) $y^{'}=\\frac{e^x}{1+e^{2x}}$\n",
    "    - (9) $y^{'}=2\\arcsin x\\cdot (\\arcsin x ^ {'})=\\frac{2\\arcsin x}{\\sqrt{1-x^2}}$\n",
    "    - (10) $y^{'}=\\frac{1}{\\cos x} \\cdot (\\cos x)^{'}=-\\tan x$"
   ]
  },
  {
   "cell_type": "code",
   "execution_count": null,
   "id": "flexible-prize",
   "metadata": {},
   "outputs": [],
   "source": []
  }
 ],
 "metadata": {
  "kernelspec": {
   "display_name": "Python 3",
   "language": "python",
   "name": "python3"
  },
  "language_info": {
   "codemirror_mode": {
    "name": "ipython",
    "version": 3
   },
   "file_extension": ".py",
   "mimetype": "text/x-python",
   "name": "python",
   "nbconvert_exporter": "python",
   "pygments_lexer": "ipython3",
   "version": "3.7.9"
  }
 },
 "nbformat": 4,
 "nbformat_minor": 5
}
