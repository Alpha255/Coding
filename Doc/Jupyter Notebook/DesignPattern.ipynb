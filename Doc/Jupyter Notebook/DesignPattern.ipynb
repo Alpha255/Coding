{
 "cells": [
  {
   "cell_type": "markdown",
   "id": "b6cb215c",
   "metadata": {},
   "source": [
    "https://github.com/JakubVojvoda/design-patterns-cpp\n",
    "\n",
    "- Factory模式\n",
    "    - 简单工厂模式:工厂类负责具体对象的创建,每加一种新的产品类,就要修改原有代码\n",
    "    - 抽象工厂模式:不同的工厂类创建不同的产品类\n",
    "- Builder模式: 具体的建造者类负责根据参数构造目标类型中的不同部分\n",
    "- Prototype模式: 提供自身的拷贝构造\n",
    "\n",
    "\n",
    "- Bridge模式: 将接口与实现分离\n",
    "- Adapter模式: 保留旧的接口,在新的适配器中另做实现\n",
    "- Decorator模式: 通过组合而非继承的方式为扩展旧的类\n",
    "- Composite模式\n",
    "- FlyWeight模式: 当需要大量创建轻量级的对象时, 尽量复用已有对象\n",
    "- Facade模式: 封装子系统功能,不需要知道子系统功能具体实现在何处\n",
    "- Proxy模式: 逻辑与实现彻底解耦\n",
    "\n",
    "- Template模式:将具体实现延迟到子类中\n",
    "- Strategy模式:与Template模式不同,采用组合而非继承的方式实现异构\n",
    "- State模式:类似于状态机, 切换不同状态执行不同操作,缺陷是状态逻辑分布在各state中,很难看到整个状态逻辑\n",
    "- Observer模式:一个object发生改变,通知其关联的其他所有object,并执行相应更新\n",
    "- Mediator模式: 将多对多的通信转为一对多的通信\n",
    "- Command模式: 将调用主体与响应实现解耦\n",
    "- Visitor模式: 可以使Element在不修改自己的同时增加新的操作???,但破坏了封装: visitor可以修改Element的状态, 并且每增加一个Elment的子类,就要修改Visitor接口\n",
    "- Interpreter模式:"
   ]
  },
  {
   "cell_type": "code",
   "execution_count": null,
   "id": "b98629f3",
   "metadata": {},
   "outputs": [],
   "source": []
  }
 ],
 "metadata": {
  "kernelspec": {
   "display_name": "Python 3",
   "language": "python",
   "name": "python3"
  },
  "language_info": {
   "codemirror_mode": {
    "name": "ipython",
    "version": 3
   },
   "file_extension": ".py",
   "mimetype": "text/x-python",
   "name": "python",
   "nbconvert_exporter": "python",
   "pygments_lexer": "ipython3",
   "version": "3.9.1"
  }
 },
 "nbformat": 4,
 "nbformat_minor": 5
}
