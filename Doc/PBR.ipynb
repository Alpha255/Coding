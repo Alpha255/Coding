{
 "cells": [
  {
   "cell_type": "markdown",
   "metadata": {},
   "source": [
    "- 基于物理的材质+基于物理的光照+基于物理适配的摄像机\n",
    "- $BxDF$\n",
    "    - 双向反射分布函数 ($Bidirectional Reflectance Distribution Function, BRDF$)\n",
    "    - 双向散射分布函数 ($Bidirectional Scattering Distribution Function, BSDF$)\n",
    "    - 双向透射分布函数 ($Bidirectional Transmittance Distribution Function, BTDF$)\n",
    "    - 双向散射表面反射分布函数 ($Bidirectional Scattering-Surface Reflectance Distribution Function BSSRDF$)\n",
    "- 渲染方程\n",
    "    - 渲染方程的物理基础是能量守恒, 在一个特定的位置和方向, 出射光$L_{o}$是自发光$L_{e}$与反射光线之和,反射光线本身是各个方向的入射光$L_{i}$之和乘以表面反射率以及入射角.\n",
    "    - 某一点$p$的渲染方程, 可以表示为:$$L_{o}=L_{e}+\\int_{\\Omega}f_{r}\\cdot L_{i}\\cdot (\\omega_{i}\\cdot n)\\cdot d\\omega_{i}$$ 其中:\n",
    "        - $L_{o}$是$p$点的出射光亮度\n",
    "        - $L_{e}$是$p$点发出的光亮度\n",
    "        - $f_{r}$是$p$点入射方向到出射方向光的反射比例, 即$BxDF$\n",
    "        - $L_{i}$是$p$点入射光亮度\n",
    "        - $\\omega\\cdot n$是入射角带来的入射光衰减\n",
    "        - $\\int_{\\Omega}\\cdots d\\omega_{i}$是入射方向半球积分\n",
    "<img src=\"./pbr.jpg\" align=center>仅$m = h$的表面点的朝向才会将光线$l$反射到视线$v$的方向，其他表面点对$BRDF$没有贡献\n",
    "    - $Specular BRDF$ $$f(l, v) = \\frac{D(h)F(v,h)G(l,v,h)}{4(n\\cdot l)(n\\cdot v)}$$, 其中:\n",
    "        - $D(h)$: 法线分布函数($Normal Distribution Function$), 描述微平面法线分布的概率, 即正确朝向的法线的浓度, 即具有正确朝向, 能够将来自$l$的光反射到$v$的表面点相对于表面积的浓度\n",
    "        - $F(l,h)$: 菲涅尔方程($Fresnel Function$), 描述不同的表面角下表面所反射的光线所占的比率\n",
    "        - $G(l,v,h)$: 几何函数($Geometry Function$), 描述微平面自成阴影的属性,即$m=h$的未被遮蔽的表面点的百分比\n",
    "        - $4(n\\cdot l)(n\\cdot v)$: 校正因子($Correction Factor$), 作为微观几何的局部空间和整个宏观表面的局部空间之间变换的微平面量的校正\n",
    "   - 法线分布函数($Normal Distribution Function$), 常用$GGX(Trowbridge-Reitz)$ $$D_{GGX(m)} = \\dfrac{\\alpha^2}{\\pi((n\\cdot m)^2(\\alpha^2-1)+1)^2}$$ \n",
    "   因为具有更好的高光长尾<img src=\"./ndf.jpg\" align=center>\n",
    "   - $Specular F$ 对于菲涅尔项, 一般采用Schlick的Fresnel近似, 因为计算成本低, 且精度足够:\n",
    "   $$F_{Shlick}(v,h)=F_{0}+(1-F_{0})(1-(v\\cdot h))^5$$\n",
    "   - $Specular G$ 常用分离遮蔽阴影($Separable Masking and Shadowing Function$), 该形式将几何项分为两个独立的部分: 光线方向和视线方向, 并对两者用相同的分布函数来描述, UE4的方案是Schlick-GGX, 即基于Schlick近似\n",
    "           - $$\\alpha = (\\frac{roughness + 1}{2})^2$$\n",
    "           - $$k=\\frac{\\alpha}{2}$$\n",
    "           - $$G(v)=\\frac{n\\cdot v}{(n\\cdot v)(1-k)+k}$$\n",
    "           - $$G(l)=\\frac{l\\cdot v}{(l\\cdot v)(1-k)+k}$$\n",
    "           - $$G(l,v,h) = G(l)\\cdot G(v)$$"
   ]
  },
  {
   "cell_type": "code",
   "execution_count": null,
   "metadata": {},
   "outputs": [],
   "source": []
  }
 ],
 "metadata": {
  "kernelspec": {
   "display_name": "Python 3",
   "language": "python",
   "name": "python3"
  },
  "language_info": {
   "codemirror_mode": {
    "name": "ipython",
    "version": 3
   },
   "file_extension": ".py",
   "mimetype": "text/x-python",
   "name": "python",
   "nbconvert_exporter": "python",
   "pygments_lexer": "ipython3",
   "version": "3.8.2"
  }
 },
 "nbformat": 4,
 "nbformat_minor": 4
}
