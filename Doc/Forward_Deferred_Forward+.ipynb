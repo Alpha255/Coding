{
 "cells": [
  {
   "cell_type": "markdown",
   "metadata": {},
   "source": [
    "- https://www.3dgep.com/forward-plus/\n",
    "****\n",
    "\n",
    "### Forward rendering\n",
    "- 场景中的每一个物体对于每一个灯光, 都要计算一次\n",
    "- 可以忽略被遮挡的物体或者剔除不在视锥中的灯光来做优化\n",
    "- 如果灯光的范围已知, 可先对***light volume***做视锥剔除\n",
    "- 但通常是限制有效灯光的数量\n",
    "\n",
    "### Deferred shading\n",
    "- 光栅化所有物体到一系列二维图像中, 以存储光照所需的几何信息, 并在之后的***pass***中计算光照\n",
    "- 存储在二维图像中的信息通常包括\n",
    "   - ***screen space depth***\n",
    "   - ***surface normal***\n",
    "   - ***diffuse color***\n",
    "   - ***specular color and specular power*** \n",
    "- 1080p, 每像素32位情况下, 每个***G-Buffer texture***需要至少***8.29MB***\n",
    "- 在***lighting pass***中, 每个光源对于其所覆盖的像素只需计算一次光照\n",
    "- 其中一个缺点是仅能光栅化***opaque***物体到***G-Buffer***中, 因为多个半透明物体可能会覆盖同一个像素, 但在***G-Buffer***中每个像素只能存储一个值\n",
    "- 另一个缺点是在***lighting pass***中仅能模拟一种光照模型, 因为渲染***light geometry***时只能绑定一个***pixel shader***\n",
    "\n",
    "### Forward+ (Tiled forward shading)\n",
    "- 将***Forward rendering*** 和 ***Tiled light culling*** 相结合, 以减少光源数量, ***Forward+*** 主要包含两个阶段\n",
    "   - ***Light culling***\n",
    "   - ***Forward rendering***\n",
    "- 第一个阶段先将屏幕空间划分为等距的网格, 并将光源划分到每个网格中\n",
    "- 第二个阶段使用***Forward rendering*** ,但不同的是, 不需要遍历场景中所有的动态光源, 而是使用当前像素的屏幕空间位置来在网格中查找影响该像素的所有光源\n",
    "- ***opaque***和半透几何体都能用相似的方式来处理, 并且可以使用多种材质和多种光照模型\n",
    "   "
   ]
  }
 ],
 "metadata": {
  "kernelspec": {
   "display_name": "Python 3",
   "language": "python",
   "name": "python3"
  },
  "language_info": {
   "codemirror_mode": {
    "name": "ipython",
    "version": 3
   },
   "file_extension": ".py",
   "mimetype": "text/x-python",
   "name": "python",
   "nbconvert_exporter": "python",
   "pygments_lexer": "ipython3",
   "version": "3.7.4"
  },
  "toc": {
   "base_numbering": 1,
   "nav_menu": {},
   "number_sections": true,
   "sideBar": true,
   "skip_h1_title": false,
   "title_cell": "Table of Contents",
   "title_sidebar": "Contents",
   "toc_cell": false,
   "toc_position": {},
   "toc_section_display": true,
   "toc_window_display": false
  }
 },
 "nbformat": 4,
 "nbformat_minor": 2
}
